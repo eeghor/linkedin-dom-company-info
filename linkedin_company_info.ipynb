{
 "cells": [
  {
   "cell_type": "code",
   "execution_count": 5,
   "metadata": {},
   "outputs": [],
   "source": [
    "import pandas as pd\n",
    "from selenium import webdriver\n",
    "from selenium.webdriver.support.ui import WebDriverWait\n",
    "from selenium.webdriver.support import expected_conditions as EC\n",
    "from selenium.webdriver.common.by import By\n",
    "from selenium.common.exceptions import TimeoutException\n",
    "import time\n",
    "from unidecode import unidecode\n",
    "from selenium.webdriver.common.keys import Keys\n",
    "import pandas as pd\n",
    "from collections import defaultdict\n",
    "import json\n",
    "from datetime import datetime\n",
    "\n",
    "driver = webdriver.Chrome('/Users/ik/Data/webdrivers/chromedriver')\n",
    "WAIT_TIME = 30"
   ]
  },
  {
   "cell_type": "code",
   "execution_count": 6,
   "metadata": {},
   "outputs": [],
   "source": [
    "emails = pd.read_csv(\"/Users/ik/Data/email-domains/verified_email_domains.txt\", sep=\":\", header=None, names=\"domain status\".split())"
   ]
  },
  {
   "cell_type": "code",
   "execution_count": null,
   "metadata": {},
   "outputs": [
    {
     "name": "stdout",
     "output_type": "stream",
     "text": [
      "total ok emails: 360181\n"
     ]
    }
   ],
   "source": [
    "ok_emails = sorted(list(set(emails.loc[emails.status=='ok'][\"domain\"].tolist())))\n",
    "print(\"total ok emails: {}\".format(len(ok_emails)))"
   ]
  },
  {
   "cell_type": "code",
   "execution_count": null,
   "metadata": {},
   "outputs": [
    {
     "name": "stdout",
     "output_type": "stream",
     "text": [
      "#1: searching for 0014.com.au...\n"
     ]
    }
   ],
   "source": [
    "comp_info = []  # list of all company information pieces\n",
    "\n",
    "for i, company_domain in enumerate(ok_emails[:10], 1):\n",
    "    \n",
    "    print(\"#{}: searching for {}...\".format(i, company_domain))\n",
    "    \n",
    "    driver.get(\"https://www.google.com.au/\")\n",
    "    SUBJ_WORD = \" \".join([\"linkedin\", company_domain])\n",
    "    WebDriverWait(driver, WAIT_TIME).until(EC.presence_of_element_located((By.XPATH, \"//input[@id='lst-ib']\"))).send_keys(SUBJ_WORD)\n",
    "    driver.find_element_by_xpath(\"//input[@type='submit']\").click()\n",
    "\n",
    "    h3 = driver.find_element_by_xpath(\"//div[@class='s']\")\n",
    "    linkedin_url = h3.find_element_by_xpath(\".//cite[@class='_Rm']\").text\n",
    "    \n",
    "    if \"au.linkedin.com\" in linkedin_url:\n",
    "        \n",
    "        driver.get(linkedin_url)\n",
    "        \n",
    "        try:\n",
    "            WebDriverWait(driver, 6).until(EC.presence_of_element_located((By.CLASS_NAME, \"public-follow\")))\n",
    "        except:\n",
    "            print(\"no follow button, skipping..\")\n",
    "            continue\n",
    "            \n",
    "        try:\n",
    "            cname = driver.find_element_by_xpath(\"//h1[@class='name']\")\n",
    "        except:\n",
    "            # we don't care about companies without names\n",
    "            continue\n",
    "        \n",
    "        try:\n",
    "            indus = driver.find_element_by_xpath(\"//p[@class='industry']\")\n",
    "        except:\n",
    "            indus = None\n",
    "            \n",
    "        try:\n",
    "            csize = driver.find_element_by_xpath(\"//p[@class='company-size']\")\n",
    "        except:\n",
    "            size = None\n",
    "            \n",
    "        try:\n",
    "            cwebs = driver.find_element_by_xpath(\"//li[@class='website']/p\")\n",
    "        except:\n",
    "            cwebs = None\n",
    "        \n",
    "        try:\n",
    "            ctype = driver.find_element_by_xpath(\"//li[@class='type']/p\")\n",
    "        except:\n",
    "            ctype = None\n",
    "        \n",
    "        try:\n",
    "            cadr = driver.find_element_by_xpath(\"//p[@class='adr']\")\n",
    "        except:\n",
    "            cadr = None\n",
    "            \n",
    "        comp_info.append({k: v.text.lower().strip() if v else None for k, v in {\"name\": cname, \"industry\": indus, \"size\": csize,\n",
    "                                \"website\": cwebs, \"type\": ctype, \"address\": cadr}.items()})\n",
    "    \n",
    "        print(comp_info)\n",
    "        \n",
    "    else:\n",
    "        print(\"can\\'t find this company on linkedin, moving on...\".format(company_domain.upper()))     \n",
    "\n",
    "json.dump(comp_info, open('linkedin-company-info.json', 'w'))\n",
    "driver.quit()"
   ]
  },
  {
   "cell_type": "code",
   "execution_count": null,
   "metadata": {},
   "outputs": [],
   "source": []
  }
 ],
 "metadata": {
  "kernelspec": {
   "display_name": "Python 3",
   "language": "python",
   "name": "python3"
  },
  "language_info": {
   "codemirror_mode": {
    "name": "ipython",
    "version": 3
   },
   "file_extension": ".py",
   "mimetype": "text/x-python",
   "name": "python",
   "nbconvert_exporter": "python",
   "pygments_lexer": "ipython3",
   "version": "3.6.2"
  }
 },
 "nbformat": 4,
 "nbformat_minor": 2
}
