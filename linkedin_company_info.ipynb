{
 "cells": [
  {
   "cell_type": "code",
   "execution_count": 203,
   "metadata": {
    "collapsed": false
   },
   "outputs": [],
   "source": [
    "import pandas as pd\n",
    "from selenium import webdriver\n",
    "from selenium.webdriver.support.ui import WebDriverWait\n",
    "from selenium.webdriver.support import expected_conditions as EC\n",
    "from selenium.webdriver.common.by import By\n",
    "from selenium.common.exceptions import TimeoutException\n",
    "import time\n",
    "from unidecode import unidecode\n",
    "from selenium.webdriver.common.keys import Keys\n",
    "import pandas as pd\n",
    "from collections import defaultdict\n",
    "import json\n",
    "from datetime import datetime\n",
    "\n",
    "driver = webdriver.Chrome('webdriver/chromedriver')\n",
    "WAIT_TIME = 30"
   ]
  },
  {
   "cell_type": "code",
   "execution_count": 204,
   "metadata": {
    "collapsed": false
   },
   "outputs": [],
   "source": [
    "emails = pd.read_csv(\"company_domains.txt\", sep=\":\", header=None, names=\"domain status\".split())"
   ]
  },
  {
   "cell_type": "code",
   "execution_count": 205,
   "metadata": {
    "collapsed": false
   },
   "outputs": [],
   "source": [
    "ok_emails = emails.loc[emails.status=='ok'][\"domain\"].tolist()"
   ]
  },
  {
   "cell_type": "code",
   "execution_count": 206,
   "metadata": {
    "collapsed": false
   },
   "outputs": [
    {
     "name": "stdout",
     "output_type": "stream",
     "text": [
      "searching for churchgrace.com.au...\n",
      "{'industry': 'law practice', 'name': 'church & grace', 'type': 'privately held', 'address': '2000 australia', 'size': '11-50 employees', 'website': 'http://www.churchgrace.com.au'}\n",
      "searching for groundsupportservices.com...\n",
      "{'industry': 'outsourcing/offshoring', 'name': 'flat planet', 'type': 'privately held', 'address': 'level 6, 115 pitt street sydney, nsw 2000 australia', 'size': '51-200 employees', 'website': 'http://www.flatplanet.com.au'}\n",
      "searching for lams.com.au...\n",
      "can't find this company on linkedin, moving on...\n",
      "searching for webtrix.com.au...\n",
      "{'industry': None, 'name': 'webtrix, llc', 'type': None, 'address': '313 caraway dr bear, delaware 19701 united states', 'size': '11-50 employees', 'website': 'http://webtrix.net'}\n",
      "searching for royaland.com.au...\n",
      "no follow button, skipping..\n",
      "searching for csideplumbing.com.au...\n",
      "no follow button, skipping..\n",
      "searching for irvine.id.au...\n",
      "no follow button, skipping..\n",
      "searching for babygenerationcc.com...\n",
      "can't find this company on linkedin, moving on...\n",
      "searching for bbtltd.com...\n",
      "can't find this company on linkedin, moving on...\n",
      "searching for dcstrategy.com...\n",
      "{'industry': 'management consulting', 'name': 'dc strategy', 'type': 'privately held', 'address': 'level 6 447 kent street sydney, nsw 2000 australia', 'size': '11-50 employees', 'website': 'http://www.dcstrategy.com'}\n"
     ]
    }
   ],
   "source": [
    "for company_domain in ok_emails[:10]:\n",
    "    \n",
    "    print(\"searching for {}...\".format(company_domain))\n",
    "    \n",
    "    comp_info = {}\n",
    "    \n",
    "    driver.get(\"https://www.google.com.au/\")\n",
    "    SUBJ_WORD = \" \".join([\"linkedin\", company_domain])\n",
    "    WebDriverWait(driver, WAIT_TIME).until(EC.presence_of_element_located((By.XPATH, \"//input[@id='lst-ib']\"))).send_keys(SUBJ_WORD)\n",
    "    driver.find_element_by_xpath(\"//input[@type='submit']\").click()\n",
    "\n",
    "    h3 = driver.find_element_by_xpath(\"//div[@class='s']\")\n",
    "    linkedin_url = h3.find_element_by_xpath(\".//cite[@class='_Rm']\").text\n",
    "    \n",
    "    if \"au.linkedin.com\" in linkedin_url:\n",
    "        driver.get(linkedin_url)\n",
    "        \n",
    "        try:\n",
    "            WebDriverWait(driver, 6).until(EC.presence_of_element_located((By.CLASS_NAME, \"public-follow\")))\n",
    "        except:\n",
    "            print(\"no follow button, skipping..\")\n",
    "            continue\n",
    "            \n",
    "        try:\n",
    "            cname = driver.find_element_by_xpath(\"//h1[@class='name']\")\n",
    "        except:\n",
    "            # we don't care about companies without names\n",
    "            continue\n",
    "        \n",
    "#         li_part = linkedin_url.split(\"/\")[-1] \n",
    "        \n",
    "#         print(\"are these: \", li_part.split(\"-\"), \" in \", company_domain.lower().strip())\n",
    "        \n",
    "#         if sum([1 if w in company_domain.lower().strip() else 0 for w in li_part.split(\"-\")]) == 0:\n",
    "#             continue\n",
    "        \n",
    "        try:\n",
    "            indus = driver.find_element_by_xpath(\"//p[@class='industry']\")\n",
    "        except:\n",
    "            indus = None\n",
    "            \n",
    "        try:\n",
    "            csize = driver.find_element_by_xpath(\"//p[@class='company-size']\")\n",
    "        except:\n",
    "            size = None\n",
    "            \n",
    "        try:\n",
    "            cwebs = driver.find_element_by_xpath(\"//li[@class='website']/p\")\n",
    "        except:\n",
    "            cwebs = None\n",
    "        \n",
    "        try:\n",
    "            ctype = driver.find_element_by_xpath(\"//li[@class='type']/p\")\n",
    "        except:\n",
    "            ctype = None\n",
    "        \n",
    "        try:\n",
    "            cadr = driver.find_element_by_xpath(\"//p[@class='adr']\")\n",
    "        except:\n",
    "            cadr = None\n",
    "            \n",
    "        comp_info.update({k: v.text.lower().strip() if v else None for k, v in {\"name\": cname, \"industry\": indus, \"size\": csize,\n",
    "                                \"website\": cwebs, \"type\": ctype, \"address\": cadr}.items()})\n",
    "    \n",
    "        print(comp_info)\n",
    "        \n",
    "    else:\n",
    "        print(\"can\\'t find this company on linkedin, moving on...\".format(company_domain.upper()))     \n",
    "    \n",
    "driver.quit()"
   ]
  },
  {
   "cell_type": "code",
   "execution_count": null,
   "metadata": {
    "collapsed": true
   },
   "outputs": [],
   "source": []
  }
 ],
 "metadata": {
  "kernelspec": {
   "display_name": "Python [default]",
   "language": "python",
   "name": "python3"
  },
  "language_info": {
   "codemirror_mode": {
    "name": "ipython",
    "version": 3
   },
   "file_extension": ".py",
   "mimetype": "text/x-python",
   "name": "python",
   "nbconvert_exporter": "python",
   "pygments_lexer": "ipython3",
   "version": "3.5.2"
  }
 },
 "nbformat": 4,
 "nbformat_minor": 2
}
